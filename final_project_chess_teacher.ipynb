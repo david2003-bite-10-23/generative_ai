{
  "nbformat": 4,
  "nbformat_minor": 0,
  "metadata": {
    "colab": {
      "provenance": [],
      "include_colab_link": true
    },
    "kernelspec": {
      "name": "python3",
      "display_name": "Python 3"
    },
    "language_info": {
      "name": "python"
    }
  },
  "cells": [
    {
      "cell_type": "markdown",
      "metadata": {
        "id": "view-in-github",
        "colab_type": "text"
      },
      "source": [
        "<a href=\"https://colab.research.google.com/github/david2003-bite-10-23/generative_ai/blob/main/final_project_chess_teacher.ipynb\" target=\"_parent\"><img src=\"https://colab.research.google.com/assets/colab-badge.svg\" alt=\"Open In Colab\"/></a>"
      ]
    },
    {
      "cell_type": "code",
      "execution_count": 7,
      "metadata": {
        "colab": {
          "base_uri": "https://localhost:8080/"
        },
        "id": "ZQDiKpA3sngQ",
        "outputId": "0833bf61-3bc8-4c9b-ee58-73a38bbd0fe6"
      },
      "outputs": [
        {
          "output_type": "stream",
          "name": "stdout",
          "text": [
            "W: Skipping acquire of configured file 'main/source/Sources' as repository 'https://r2u.stat.illinois.edu/ubuntu jammy InRelease' does not seem to provide it (sources.list entry misspelt?)\n"
          ]
        }
      ],
      "source": [
        "# 更新套件列表，並安裝 Stockfish\n",
        "!apt-get -qq update && apt-get -qq install -y stockfish\n",
        "\n",
        "# 安裝 Python 套件：python-chess、CairoSVG（SVG→PNG）、Pillow、Gradio、OpenAI\n",
        "!pip install -q python-chess cairosvg pillow gradio openai\n"
      ]
    },
    {
      "cell_type": "code",
      "source": [
        "import os\n",
        "import io\n",
        "import chess\n",
        "import chess.engine\n",
        "import chess.svg\n",
        "import cairosvg\n",
        "import gradio as gr\n",
        "from openai import OpenAI\n",
        "from functools import lru_cache\n",
        "from google.colab import userdata\n",
        "# 從 Colab 環境變數讀取您的 OpenAI API Key\n",
        "# 請先在 Colab 介面「設定 → 環境變數」裡，新增名稱為 OpenAI、值為您的 API Key\n",
        "OpenAI.api_key = userdata.get('OpenAI')\n",
        "STOCKFISH_PATH = \"/usr/games/stockfish\"\n",
        "os.environ[\"OPENAI_API_KEY\"] = OpenAI.api_key\n"
      ],
      "metadata": {
        "id": "0DR2W8xIsvSN"
      },
      "execution_count": 33,
      "outputs": []
    },
    {
      "cell_type": "code",
      "source": [
        "# 棋盤顏色（chess.com 標準木質淺色／深色）\n",
        "LIGHT, DARK = \"#f0d9b5\", \"#b58863\"\n",
        "\n",
        "@lru_cache(maxsize=128)\n",
        "def render_board_png(fen: str, arrows: tuple = ()):\n",
        "    \"\"\"\n",
        "    將棋盤（FEN）渲染為 PNG bytes。\n",
        "    arrows: tuple of (move, stroke_width)。注意：stroke_width 不直接用於 Arrow 物件建立。\n",
        "    \"\"\"\n",
        "    # 建立 Arrow 物件 - 不傳入 stroke_width\n",
        "    # 如果需要不同粗細的箭頭，需要後續修改 SVG 字串\n",
        "    arrow_objs = [\n",
        "        chess.svg.Arrow(m.from_square, m.to_square, color=\"#ffd700\")\n",
        "        for m, sw in arrows # sw 這裡仍然從 arrows tuple 中取出，但沒有用於 Arrow()\n",
        "    ]\n",
        "\n",
        "    svg = chess.svg.board(\n",
        "        board=chess.Board(fen),\n",
        "        orientation=chess.WHITE,      # 白棋永遠在下\n",
        "        colors={\"square light\": LIGHT, \"square dark\": DARK},\n",
        "        arrows=arrow_objs\n",
        "        # 注意：chess.svg.board 本身可能不直接支持針對單個箭頭設置不同 stroke_width 的參數\n",
        "        # 如果需要，需要在生成 SVG 後手動編輯 SVG 字串\n",
        "    )\n",
        "\n",
        "    # SVG → PNG\n",
        "    return cairosvg.svg2png(bytestring=svg.encode(\"utf-8\"))"
      ],
      "metadata": {
        "id": "x6kCGMHPsw2L"
      },
      "execution_count": 34,
      "outputs": []
    },
    {
      "cell_type": "code",
      "source": [
        "def top_three_moves(board: chess.Board, time_limit=2):\n",
        "    \"\"\"\n",
        "    使用多 PV 分析，回傳前三最佳走法清單（Move 物件）。\n",
        "    \"\"\"\n",
        "    infos = ENGINE.analyse(\n",
        "        board,\n",
        "        chess.engine.Limit(time=time_limit),\n",
        "        multipv=3\n",
        "    )\n",
        "    print(info[\"pv\"][0] for info in infos if \"pv\" in info)\n",
        "    return [info[\"pv\"][0] for info in infos if \"pv\" in info]\n",
        "\n",
        "def gpt_explain(fen: str, moves: list[str]):\n",
        "    \"\"\"\n",
        "    將 FEN 與 UCI 走法列表送給 GPT，取得簡短說明（≤80 字）。\n",
        "    \"\"\"\n",
        "    prompt = (\n",
        "        f\"棋局 FEN: {fen}\\n\"\n",
        "        f\"Stockfish 前三候選走法: {', '.join(moves)}\\n\"\n",
        "        \"請用繁體中文，說明棋步的策略意圖，並建議最優者。之後可以附上一些有趣典故或者故事來引起學習動機，激勵鼓勵初學者積極學習\"\n",
        "    )\n",
        "    client = OpenAI()\n",
        "    rsp = client.chat.completions.create(\n",
        "        model=\"gpt-4\",\n",
        "        messages=[\n",
        "            {\"role\": \"system\", \"content\": \"你是專業棋藝教練，擅長簡明扼要分析走法。\"},\n",
        "            {\"role\": \"user\",   \"content\": prompt}\n",
        "        ],\n",
        "        temperature=0.6,\n",
        "    )\n",
        "    return rsp.choices[0].message.content.strip()\n"
      ],
      "metadata": {
        "id": "xSD-_L8gs1O8"
      },
      "execution_count": 35,
      "outputs": []
    },
    {
      "cell_type": "code",
      "source": [
        "from PIL import Image as PILImage\n",
        "import io\n",
        "\n",
        "def get_engine():\n",
        "    # 確保每次需要引擎時都開啟並在使用後關閉\n",
        "    return chess.engine.SimpleEngine.popen_uci(STOCKFISH_PATH)\n",
        "\n",
        "def bytes_to_pil(png_bytes):\n",
        "    \"\"\"\n",
        "    把 render_board_png 回傳的 PNG bytes 轉成 PIL.Image\n",
        "    \"\"\"\n",
        "    return PILImage.open(io.BytesIO(png_bytes))\n",
        "\n",
        "# ------------------------------------------------------------------------------\n",
        "# 修改這裡：輔助函式，以便在回傳合法走法列表時，也回傳預設選中的走法 (第一個)\n",
        "def new_game_manual_input(color: str):\n",
        "    engine = get_engine()\n",
        "    try:\n",
        "        board = chess.Board()\n",
        "        initial_comment = \"新局開始，請您走棋。\" # 預設的初始訊息\n",
        "\n",
        "        if color.lower() == \"black\":\n",
        "            # 如果是黑棋，Stockfish 先走一步\n",
        "            mv = engine.play(board, chess.engine.Limit(time=0.1)).move\n",
        "            board.push(mv)\n",
        "            initial_comment = \"新局開始，Stockfish 已走出第一手，請您走棋。\"\n",
        "\n",
        "\n",
        "        fen = board.fen()\n",
        "\n",
        "        # 在新局開始時就進行 Stockfish 分析並讓 GPT 解釋\n",
        "        infos = engine.analyse(board, chess.engine.Limit(time=0.1), multipv=3)\n",
        "        top3 = [info[\"pv\"][0] for info in infos if \"pv\" in info]\n",
        "\n",
        "        arrows = () # 初始化箭頭為空\n",
        "        if top3: # 如果 Stockfish 提供了建議\n",
        "             # 將 Stockfish 的前三步建議送給 GPT 分析\n",
        "             comment = gpt_explain(board.fen(), [m.uci() for m in top3])\n",
        "             # 使用 Stockfish 建議的前三步走法來畫箭頭，並給予不同的粗細\n",
        "             # zip 會自動取 top3 和 (6, 4, 2) 中最短的那個長度\n",
        "             arrows = tuple(zip(top3, (6,4,2)))\n",
        "             initial_comment = comment # 將 GPT 的分析結果作為初始訊息\n",
        "        else:\n",
        "             # 如果 Stockfish 沒有建議 (非常罕見，除非是終局狀態或分析失敗)\n",
        "             pass # 保持 initial_comment 的預設值\n",
        "\n",
        "        # 渲染初始棋盤 (包含初始箭頭，如果有的話)\n",
        "        png = render_board_png(fen, arrows) # 這裡傳入 arrows\n",
        "        img = bytes_to_pil(png)\n",
        "\n",
        "\n",
        "        # 回傳：圖片、FEN 字串、分析文字、清空走法輸入框\n",
        "        return img, fen, initial_comment, \"\" # 回傳 \"\" 清空文字輸入框\n",
        "\n",
        "    finally:\n",
        "        # 確保引擎關閉\n",
        "        engine.quit()\n",
        "def play_move_manual_input(uci: str, fen: str):\n",
        "    engine = get_engine()\n",
        "    try:\n",
        "        board = chess.Board(fen)\n",
        "\n",
        "        # 檢查使用者走法是否合法\n",
        "        try:\n",
        "            move_obj = board.parse_uci(uci.strip()) # 移除可能的空白字元\n",
        "            if move_obj not in board.legal_moves:\n",
        "                 # 如果走法不合法，返回錯誤訊息\n",
        "                 # 不推進棋盤，也不讓 Stockfish 走\n",
        "                 png = render_board_png(board.fen()) # 重新渲染當前棋盤\n",
        "                 img = bytes_to_pil(png)\n",
        "                 # 回傳：當前圖片、當前 FEN 字串、錯誤訊息、清空走法輸入框\n",
        "                 return img, board.fen(), f\"無效走法：{uci.strip()}，請輸入合法的走法。\", \"\"\n",
        "\n",
        "        except ValueError:\n",
        "            # 如果解析 UCI 走法失敗 (格式錯誤等)\n",
        "            png = render_board_png(board.fen()) # 重新渲染當前棋盤\n",
        "            img = bytes_to_pil(png)\n",
        "            # 回傳：當前圖片、當前 FEN 字串、錯誤訊息、清空走法輸入框\n",
        "            return img, board.fen(), f\"走法格式錯誤：{uci.strip()}，請輸入 UCI 格式的走法 (例如 e2e4)。\", \"\"\n",
        "\n",
        "        # 如果使用者走法合法，推進棋盤\n",
        "        board.push_uci(uci.strip())\n",
        "\n",
        "        # 檢查是否終局 (將死、stalemate 等)\n",
        "        if board.is_game_over():\n",
        "             result = \"Checkmate!\" if board.is_checkmate() else \"Draw.\"\n",
        "             png = render_board_png(board.fen()) # 渲染終局棋盤\n",
        "             img = bytes_to_pil(png)\n",
        "             # 回傳：終局圖片、終局 FEN 字串、終局訊息、清空走法輸入框\n",
        "             return img, board.fen(), f\"終局：{result}\", \"\"\n",
        "\n",
        "        # 如果遊戲未結束，讓 Stockfish 走一步\n",
        "        mv = engine.play(board, chess.engine.Limit(time=0.1)).move\n",
        "        board.push(mv)\n",
        "\n",
        "        # 再次檢查 Stockfish 走完後是否終局\n",
        "        if board.is_game_over():\n",
        "             result = \"Checkmate!\" if board.is_checkmate() else \"Draw.\"\n",
        "             png = render_board_png(board.fen()) # 渲染終局棋盤\n",
        "             img = bytes_to_pil(png)\n",
        "             # 回傳：終局圖片、終局 FEN 字串、終局訊息、清空走法輸入框\n",
        "             return img, board.fen(), f\"終局：{result}\", \"\"\n",
        "\n",
        "        # 如果遊戲未結束，進行多 PV + GPT 分析\n",
        "        infos = engine.analyse(board, chess.engine.Limit(time=0.1), multipv=3)\n",
        "        top3 = [info[\"pv\"][0] for info in infos if \"pv\" in info]\n",
        "        comment = gpt_explain(board.fen(), [m.uci() for m in top3])\n",
        "\n",
        "        # 畫箭頭\n",
        "        arrows = tuple(zip(top3, (6,4,2)))\n",
        "        png = render_board_png(board.fen(), arrows)\n",
        "        img = bytes_to_pil(png)\n",
        "\n",
        "        # 回傳：圖片、新的 FEN 字串、分析文字、清空走法輸入框\n",
        "        return img, board.fen(), comment, \"\"\n",
        "\n",
        "    finally:\n",
        "        # 確保引擎關閉\n",
        "        engine.quit()"
      ],
      "metadata": {
        "id": "GnCOAN1ds5Fd"
      },
      "execution_count": 38,
      "outputs": []
    },
    {
      "cell_type": "code",
      "source": [
        "import gradio as gr\n",
        "import chess # Assuming you have imported chess already\n",
        "\n",
        "# Assuming render_board_png, top_three_moves, gpt_explain are defined above\n",
        "\n",
        "with gr.Blocks(title=\"Google Colab 棋藝助教\") as demo:\n",
        "    gr.Markdown(\"## 與 Stockfish 對弈・GPT 分析每一步（手動輸入走法）\") # 修改標題\n",
        "    with gr.Row():\n",
        "        board_img = gr.Image(type=\"numpy\", label=\"棋盤\", interactive=False)\n",
        "        analysis  = gr.Textbox(label=\"GPT 分析\", lines=4, interactive=False)\n",
        "    # ------------------------------------------------------------------------------\n",
        "    # 移除 gr.Dropdown\n",
        "    # move_sel = gr.Dropdown(choices=[], label=\"選擇您的走法 (UCI)\", interactive=True)\n",
        "    # 新增 gr.Textbox 讓使用者輸入走法\n",
        "    move_input = gr.Textbox(label=\"輸入您的走法 (UCI)\", placeholder=\"例如: e2e4\")\n",
        "    state_fen = gr.State() # 用來儲存當前的 FEN 狀態\n",
        "\n",
        "    with gr.Row():\n",
        "        btn_w = gr.Button(\"新局：您為白棋\")\n",
        "        btn_b = gr.Button(\"新局：您為黑棋\")\n",
        "        btn_p = gr.Button(\"提交走法\")\n",
        "\n",
        "    # ------------------------------------------------------------------------------\n",
        "    # 修改這裡：\n",
        "    # 1. 使用新的 new_game_manual_input 函式\n",
        "    # 2. outputs 列表移除 move_sel，新增 move_input 用於清空輸入框\n",
        "    btn_w.click(\n",
        "        fn=lambda: new_game_manual_input(color=\"white\"),\n",
        "        inputs=[],\n",
        "        outputs=[board_img, state_fen, analysis, move_input] # 新增 move_input\n",
        "    )\n",
        "    btn_b.click(\n",
        "        fn=lambda: new_game_manual_input(color=\"black\"),\n",
        "        inputs=[],\n",
        "        outputs=[board_img, state_fen, analysis, move_input] # 新增 move_input\n",
        "    )\n",
        "\n",
        "    # 修改這裡：\n",
        "    # 1. 使用新的 play_move_manual_input 函式\n",
        "    # 2. inputs 列表從 move_input 讀取值\n",
        "    # 3. outputs 列表移除 move_sel，新增 move_input 用於清空輸入框\n",
        "    btn_p.click(\n",
        "        fn=play_move_manual_input,\n",
        "        inputs=[move_input, state_fen], # 從 move_input 讀取走法\n",
        "        outputs=[board_img, state_fen, analysis, move_input] # 新增 move_input\n",
        "    )\n",
        "\n",
        "# 啟動 Gradio 介面\n",
        "demo.launch(inline=True, share=True, debug=True)"
      ],
      "metadata": {
        "colab": {
          "base_uri": "https://localhost:8080/",
          "height": 611
        },
        "id": "oI0_YhIds6oL",
        "outputId": "2ff98cfb-a733-4e5d-aaf2-f000f6c625e6"
      },
      "execution_count": null,
      "outputs": [
        {
          "output_type": "stream",
          "name": "stdout",
          "text": [
            "Colab notebook detected. This cell will run indefinitely so that you can see errors and logs. To turn off, set debug=False in launch().\n",
            "* Running on public URL: https://2902788b607c86ca8f.gradio.live\n",
            "\n",
            "This share link expires in 1 week. For free permanent hosting and GPU upgrades, run `gradio deploy` from the terminal in the working directory to deploy to Hugging Face Spaces (https://huggingface.co/spaces)\n"
          ]
        },
        {
          "output_type": "display_data",
          "data": {
            "text/plain": [
              "<IPython.core.display.HTML object>"
            ],
            "text/html": [
              "<div><iframe src=\"https://2902788b607c86ca8f.gradio.live\" width=\"100%\" height=\"500\" allow=\"autoplay; camera; microphone; clipboard-read; clipboard-write;\" frameborder=\"0\" allowfullscreen></iframe></div>"
            ]
          },
          "metadata": {}
        }
      ]
    }
  ]
}