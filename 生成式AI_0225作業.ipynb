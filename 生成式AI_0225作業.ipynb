{
  "nbformat": 4,
  "nbformat_minor": 0,
  "metadata": {
    "anaconda-cloud": {},
    "colab": {
      "provenance": [],
      "gpuType": "T4",
      "include_colab_link": true
    },
    "kernelspec": {
      "display_name": "Python 3",
      "name": "python3"
    },
    "language_info": {
      "name": "python"
    },
    "accelerator": "GPU",
    "widgets": {
      "application/vnd.jupyter.widget-state+json": {
        "7a5f2e1a50e1431ea56fa24eb0614ee1": {
          "model_module": "@jupyter-widgets/controls",
          "model_name": "VBoxModel",
          "model_module_version": "1.5.0",
          "state": {
            "_dom_classes": [
              "widget-interact"
            ],
            "_model_module": "@jupyter-widgets/controls",
            "_model_module_version": "1.5.0",
            "_model_name": "VBoxModel",
            "_view_count": null,
            "_view_module": "@jupyter-widgets/controls",
            "_view_module_version": "1.5.0",
            "_view_name": "VBoxView",
            "box_style": "",
            "children": [
              "IPY_MODEL_ed1e9897c99a430c9b2b07c6e48988c7",
              "IPY_MODEL_5ff9696a4a564e728b2689288bb7d3fe",
              "IPY_MODEL_aad7a626c6f94469bf21d0c2cb79642b"
            ],
            "layout": "IPY_MODEL_08cfa8d4e6af4f178affb4799a9723bd"
          }
        },
        "ed1e9897c99a430c9b2b07c6e48988c7": {
          "model_module": "@jupyter-widgets/controls",
          "model_name": "IntSliderModel",
          "model_module_version": "1.5.0",
          "state": {
            "_dom_classes": [],
            "_model_module": "@jupyter-widgets/controls",
            "_model_module_version": "1.5.0",
            "_model_name": "IntSliderModel",
            "_view_count": null,
            "_view_module": "@jupyter-widgets/controls",
            "_view_module_version": "1.5.0",
            "_view_name": "IntSliderView",
            "continuous_update": true,
            "description": "n",
            "description_tooltip": null,
            "disabled": false,
            "layout": "IPY_MODEL_c03c3c9ad10a4f0299b77d84028f3b56",
            "max": 59999,
            "min": 0,
            "orientation": "horizontal",
            "readout": true,
            "readout_format": "d",
            "step": 1,
            "style": "IPY_MODEL_5401fb3c1dc04c7dba6bda4632a89229",
            "value": 0
          }
        },
        "5ff9696a4a564e728b2689288bb7d3fe": {
          "model_module": "@jupyter-widgets/controls",
          "model_name": "ButtonModel",
          "model_module_version": "1.5.0",
          "state": {
            "_dom_classes": [],
            "_model_module": "@jupyter-widgets/controls",
            "_model_module_version": "1.5.0",
            "_model_name": "ButtonModel",
            "_view_count": null,
            "_view_module": "@jupyter-widgets/controls",
            "_view_module_version": "1.5.0",
            "_view_name": "ButtonView",
            "button_style": "",
            "description": "Run Interact",
            "disabled": false,
            "icon": "",
            "layout": "IPY_MODEL_5803590538d44647ba8b8bddbfc5cb52",
            "style": "IPY_MODEL_c522000894b94203b34fa00f81080ce0",
            "tooltip": ""
          }
        },
        "aad7a626c6f94469bf21d0c2cb79642b": {
          "model_module": "@jupyter-widgets/output",
          "model_name": "OutputModel",
          "model_module_version": "1.0.0",
          "state": {
            "_dom_classes": [],
            "_model_module": "@jupyter-widgets/output",
            "_model_module_version": "1.0.0",
            "_model_name": "OutputModel",
            "_view_count": null,
            "_view_module": "@jupyter-widgets/output",
            "_view_module_version": "1.0.0",
            "_view_name": "OutputView",
            "layout": "IPY_MODEL_b6b98bb29aa2447ebbdc545b1f2a3700",
            "msg_id": "",
            "outputs": []
          }
        },
        "08cfa8d4e6af4f178affb4799a9723bd": {
          "model_module": "@jupyter-widgets/base",
          "model_name": "LayoutModel",
          "model_module_version": "1.2.0",
          "state": {
            "_model_module": "@jupyter-widgets/base",
            "_model_module_version": "1.2.0",
            "_model_name": "LayoutModel",
            "_view_count": null,
            "_view_module": "@jupyter-widgets/base",
            "_view_module_version": "1.2.0",
            "_view_name": "LayoutView",
            "align_content": null,
            "align_items": null,
            "align_self": null,
            "border": null,
            "bottom": null,
            "display": null,
            "flex": null,
            "flex_flow": null,
            "grid_area": null,
            "grid_auto_columns": null,
            "grid_auto_flow": null,
            "grid_auto_rows": null,
            "grid_column": null,
            "grid_gap": null,
            "grid_row": null,
            "grid_template_areas": null,
            "grid_template_columns": null,
            "grid_template_rows": null,
            "height": null,
            "justify_content": null,
            "justify_items": null,
            "left": null,
            "margin": null,
            "max_height": null,
            "max_width": null,
            "min_height": null,
            "min_width": null,
            "object_fit": null,
            "object_position": null,
            "order": null,
            "overflow": null,
            "overflow_x": null,
            "overflow_y": null,
            "padding": null,
            "right": null,
            "top": null,
            "visibility": null,
            "width": null
          }
        },
        "c03c3c9ad10a4f0299b77d84028f3b56": {
          "model_module": "@jupyter-widgets/base",
          "model_name": "LayoutModel",
          "model_module_version": "1.2.0",
          "state": {
            "_model_module": "@jupyter-widgets/base",
            "_model_module_version": "1.2.0",
            "_model_name": "LayoutModel",
            "_view_count": null,
            "_view_module": "@jupyter-widgets/base",
            "_view_module_version": "1.2.0",
            "_view_name": "LayoutView",
            "align_content": null,
            "align_items": null,
            "align_self": null,
            "border": null,
            "bottom": null,
            "display": null,
            "flex": null,
            "flex_flow": null,
            "grid_area": null,
            "grid_auto_columns": null,
            "grid_auto_flow": null,
            "grid_auto_rows": null,
            "grid_column": null,
            "grid_gap": null,
            "grid_row": null,
            "grid_template_areas": null,
            "grid_template_columns": null,
            "grid_template_rows": null,
            "height": null,
            "justify_content": null,
            "justify_items": null,
            "left": null,
            "margin": null,
            "max_height": null,
            "max_width": null,
            "min_height": null,
            "min_width": null,
            "object_fit": null,
            "object_position": null,
            "order": null,
            "overflow": null,
            "overflow_x": null,
            "overflow_y": null,
            "padding": null,
            "right": null,
            "top": null,
            "visibility": null,
            "width": null
          }
        },
        "5401fb3c1dc04c7dba6bda4632a89229": {
          "model_module": "@jupyter-widgets/controls",
          "model_name": "SliderStyleModel",
          "model_module_version": "1.5.0",
          "state": {
            "_model_module": "@jupyter-widgets/controls",
            "_model_module_version": "1.5.0",
            "_model_name": "SliderStyleModel",
            "_view_count": null,
            "_view_module": "@jupyter-widgets/base",
            "_view_module_version": "1.2.0",
            "_view_name": "StyleView",
            "description_width": "",
            "handle_color": null
          }
        },
        "5803590538d44647ba8b8bddbfc5cb52": {
          "model_module": "@jupyter-widgets/base",
          "model_name": "LayoutModel",
          "model_module_version": "1.2.0",
          "state": {
            "_model_module": "@jupyter-widgets/base",
            "_model_module_version": "1.2.0",
            "_model_name": "LayoutModel",
            "_view_count": null,
            "_view_module": "@jupyter-widgets/base",
            "_view_module_version": "1.2.0",
            "_view_name": "LayoutView",
            "align_content": null,
            "align_items": null,
            "align_self": null,
            "border": null,
            "bottom": null,
            "display": null,
            "flex": null,
            "flex_flow": null,
            "grid_area": null,
            "grid_auto_columns": null,
            "grid_auto_flow": null,
            "grid_auto_rows": null,
            "grid_column": null,
            "grid_gap": null,
            "grid_row": null,
            "grid_template_areas": null,
            "grid_template_columns": null,
            "grid_template_rows": null,
            "height": null,
            "justify_content": null,
            "justify_items": null,
            "left": null,
            "margin": null,
            "max_height": null,
            "max_width": null,
            "min_height": null,
            "min_width": null,
            "object_fit": null,
            "object_position": null,
            "order": null,
            "overflow": null,
            "overflow_x": null,
            "overflow_y": null,
            "padding": null,
            "right": null,
            "top": null,
            "visibility": null,
            "width": null
          }
        },
        "c522000894b94203b34fa00f81080ce0": {
          "model_module": "@jupyter-widgets/controls",
          "model_name": "ButtonStyleModel",
          "model_module_version": "1.5.0",
          "state": {
            "_model_module": "@jupyter-widgets/controls",
            "_model_module_version": "1.5.0",
            "_model_name": "ButtonStyleModel",
            "_view_count": null,
            "_view_module": "@jupyter-widgets/base",
            "_view_module_version": "1.2.0",
            "_view_name": "StyleView",
            "button_color": null,
            "font_weight": ""
          }
        },
        "b6b98bb29aa2447ebbdc545b1f2a3700": {
          "model_module": "@jupyter-widgets/base",
          "model_name": "LayoutModel",
          "model_module_version": "1.2.0",
          "state": {
            "_model_module": "@jupyter-widgets/base",
            "_model_module_version": "1.2.0",
            "_model_name": "LayoutModel",
            "_view_count": null,
            "_view_module": "@jupyter-widgets/base",
            "_view_module_version": "1.2.0",
            "_view_name": "LayoutView",
            "align_content": null,
            "align_items": null,
            "align_self": null,
            "border": null,
            "bottom": null,
            "display": null,
            "flex": null,
            "flex_flow": null,
            "grid_area": null,
            "grid_auto_columns": null,
            "grid_auto_flow": null,
            "grid_auto_rows": null,
            "grid_column": null,
            "grid_gap": null,
            "grid_row": null,
            "grid_template_areas": null,
            "grid_template_columns": null,
            "grid_template_rows": null,
            "height": null,
            "justify_content": null,
            "justify_items": null,
            "left": null,
            "margin": null,
            "max_height": null,
            "max_width": null,
            "min_height": null,
            "min_width": null,
            "object_fit": null,
            "object_position": null,
            "order": null,
            "overflow": null,
            "overflow_x": null,
            "overflow_y": null,
            "padding": null,
            "right": null,
            "top": null,
            "visibility": null,
            "width": null
          }
        },
        "3bc0608eb67043d4bec5c15bc065adb5": {
          "model_module": "@jupyter-widgets/controls",
          "model_name": "VBoxModel",
          "model_module_version": "1.5.0",
          "state": {
            "_dom_classes": [
              "widget-interact"
            ],
            "_model_module": "@jupyter-widgets/controls",
            "_model_module_version": "1.5.0",
            "_model_name": "VBoxModel",
            "_view_count": null,
            "_view_module": "@jupyter-widgets/controls",
            "_view_module_version": "1.5.0",
            "_view_name": "VBoxView",
            "box_style": "",
            "children": [
              "IPY_MODEL_e71fe4ab5a5049669b15b2b08e31ff95",
              "IPY_MODEL_001e1f87a9e843cabb1350c8cf4b9af5",
              "IPY_MODEL_86ed99a4a9334e42936e9ba9285e8c34"
            ],
            "layout": "IPY_MODEL_c4f97e0942bd46c9bc0dabdd8741a015"
          }
        },
        "e71fe4ab5a5049669b15b2b08e31ff95": {
          "model_module": "@jupyter-widgets/controls",
          "model_name": "IntSliderModel",
          "model_module_version": "1.5.0",
          "state": {
            "_dom_classes": [],
            "_model_module": "@jupyter-widgets/controls",
            "_model_module_version": "1.5.0",
            "_model_name": "IntSliderModel",
            "_view_count": null,
            "_view_module": "@jupyter-widgets/controls",
            "_view_module_version": "1.5.0",
            "_view_name": "IntSliderView",
            "continuous_update": true,
            "description": "n",
            "description_tooltip": null,
            "disabled": false,
            "layout": "IPY_MODEL_61d7985d80bf41dda9e28ec087dcacb2",
            "max": 59999,
            "min": 0,
            "orientation": "horizontal",
            "readout": true,
            "readout_format": "d",
            "step": 1,
            "style": "IPY_MODEL_120acad0af7148abb805f693e72cebbb",
            "value": 100
          }
        },
        "001e1f87a9e843cabb1350c8cf4b9af5": {
          "model_module": "@jupyter-widgets/controls",
          "model_name": "ButtonModel",
          "model_module_version": "1.5.0",
          "state": {
            "_dom_classes": [],
            "_model_module": "@jupyter-widgets/controls",
            "_model_module_version": "1.5.0",
            "_model_name": "ButtonModel",
            "_view_count": null,
            "_view_module": "@jupyter-widgets/controls",
            "_view_module_version": "1.5.0",
            "_view_name": "ButtonView",
            "button_style": "",
            "description": "Run Interact",
            "disabled": false,
            "icon": "",
            "layout": "IPY_MODEL_72d04186e3de4086be2949d728de48a6",
            "style": "IPY_MODEL_3b76148becac45acb15c5cd5c2b0207c",
            "tooltip": ""
          }
        },
        "86ed99a4a9334e42936e9ba9285e8c34": {
          "model_module": "@jupyter-widgets/output",
          "model_name": "OutputModel",
          "model_module_version": "1.0.0",
          "state": {
            "_dom_classes": [],
            "_model_module": "@jupyter-widgets/output",
            "_model_module_version": "1.0.0",
            "_model_name": "OutputModel",
            "_view_count": null,
            "_view_module": "@jupyter-widgets/output",
            "_view_module_version": "1.0.0",
            "_view_name": "OutputView",
            "layout": "IPY_MODEL_af5aa5ffc65c479abe77970b3f10e994",
            "msg_id": "",
            "outputs": []
          }
        },
        "c4f97e0942bd46c9bc0dabdd8741a015": {
          "model_module": "@jupyter-widgets/base",
          "model_name": "LayoutModel",
          "model_module_version": "1.2.0",
          "state": {
            "_model_module": "@jupyter-widgets/base",
            "_model_module_version": "1.2.0",
            "_model_name": "LayoutModel",
            "_view_count": null,
            "_view_module": "@jupyter-widgets/base",
            "_view_module_version": "1.2.0",
            "_view_name": "LayoutView",
            "align_content": null,
            "align_items": null,
            "align_self": null,
            "border": null,
            "bottom": null,
            "display": null,
            "flex": null,
            "flex_flow": null,
            "grid_area": null,
            "grid_auto_columns": null,
            "grid_auto_flow": null,
            "grid_auto_rows": null,
            "grid_column": null,
            "grid_gap": null,
            "grid_row": null,
            "grid_template_areas": null,
            "grid_template_columns": null,
            "grid_template_rows": null,
            "height": null,
            "justify_content": null,
            "justify_items": null,
            "left": null,
            "margin": null,
            "max_height": null,
            "max_width": null,
            "min_height": null,
            "min_width": null,
            "object_fit": null,
            "object_position": null,
            "order": null,
            "overflow": null,
            "overflow_x": null,
            "overflow_y": null,
            "padding": null,
            "right": null,
            "top": null,
            "visibility": null,
            "width": null
          }
        },
        "61d7985d80bf41dda9e28ec087dcacb2": {
          "model_module": "@jupyter-widgets/base",
          "model_name": "LayoutModel",
          "model_module_version": "1.2.0",
          "state": {
            "_model_module": "@jupyter-widgets/base",
            "_model_module_version": "1.2.0",
            "_model_name": "LayoutModel",
            "_view_count": null,
            "_view_module": "@jupyter-widgets/base",
            "_view_module_version": "1.2.0",
            "_view_name": "LayoutView",
            "align_content": null,
            "align_items": null,
            "align_self": null,
            "border": null,
            "bottom": null,
            "display": null,
            "flex": null,
            "flex_flow": null,
            "grid_area": null,
            "grid_auto_columns": null,
            "grid_auto_flow": null,
            "grid_auto_rows": null,
            "grid_column": null,
            "grid_gap": null,
            "grid_row": null,
            "grid_template_areas": null,
            "grid_template_columns": null,
            "grid_template_rows": null,
            "height": null,
            "justify_content": null,
            "justify_items": null,
            "left": null,
            "margin": null,
            "max_height": null,
            "max_width": null,
            "min_height": null,
            "min_width": null,
            "object_fit": null,
            "object_position": null,
            "order": null,
            "overflow": null,
            "overflow_x": null,
            "overflow_y": null,
            "padding": null,
            "right": null,
            "top": null,
            "visibility": null,
            "width": null
          }
        },
        "120acad0af7148abb805f693e72cebbb": {
          "model_module": "@jupyter-widgets/controls",
          "model_name": "SliderStyleModel",
          "model_module_version": "1.5.0",
          "state": {
            "_model_module": "@jupyter-widgets/controls",
            "_model_module_version": "1.5.0",
            "_model_name": "SliderStyleModel",
            "_view_count": null,
            "_view_module": "@jupyter-widgets/base",
            "_view_module_version": "1.2.0",
            "_view_name": "StyleView",
            "description_width": "",
            "handle_color": null
          }
        },
        "72d04186e3de4086be2949d728de48a6": {
          "model_module": "@jupyter-widgets/base",
          "model_name": "LayoutModel",
          "model_module_version": "1.2.0",
          "state": {
            "_model_module": "@jupyter-widgets/base",
            "_model_module_version": "1.2.0",
            "_model_name": "LayoutModel",
            "_view_count": null,
            "_view_module": "@jupyter-widgets/base",
            "_view_module_version": "1.2.0",
            "_view_name": "LayoutView",
            "align_content": null,
            "align_items": null,
            "align_self": null,
            "border": null,
            "bottom": null,
            "display": null,
            "flex": null,
            "flex_flow": null,
            "grid_area": null,
            "grid_auto_columns": null,
            "grid_auto_flow": null,
            "grid_auto_rows": null,
            "grid_column": null,
            "grid_gap": null,
            "grid_row": null,
            "grid_template_areas": null,
            "grid_template_columns": null,
            "grid_template_rows": null,
            "height": null,
            "justify_content": null,
            "justify_items": null,
            "left": null,
            "margin": null,
            "max_height": null,
            "max_width": null,
            "min_height": null,
            "min_width": null,
            "object_fit": null,
            "object_position": null,
            "order": null,
            "overflow": null,
            "overflow_x": null,
            "overflow_y": null,
            "padding": null,
            "right": null,
            "top": null,
            "visibility": null,
            "width": null
          }
        },
        "3b76148becac45acb15c5cd5c2b0207c": {
          "model_module": "@jupyter-widgets/controls",
          "model_name": "ButtonStyleModel",
          "model_module_version": "1.5.0",
          "state": {
            "_model_module": "@jupyter-widgets/controls",
            "_model_module_version": "1.5.0",
            "_model_name": "ButtonStyleModel",
            "_view_count": null,
            "_view_module": "@jupyter-widgets/base",
            "_view_module_version": "1.2.0",
            "_view_name": "StyleView",
            "button_color": null,
            "font_weight": ""
          }
        },
        "af5aa5ffc65c479abe77970b3f10e994": {
          "model_module": "@jupyter-widgets/base",
          "model_name": "LayoutModel",
          "model_module_version": "1.2.0",
          "state": {
            "_model_module": "@jupyter-widgets/base",
            "_model_module_version": "1.2.0",
            "_model_name": "LayoutModel",
            "_view_count": null,
            "_view_module": "@jupyter-widgets/base",
            "_view_module_version": "1.2.0",
            "_view_name": "LayoutView",
            "align_content": null,
            "align_items": null,
            "align_self": null,
            "border": null,
            "bottom": null,
            "display": null,
            "flex": null,
            "flex_flow": null,
            "grid_area": null,
            "grid_auto_columns": null,
            "grid_auto_flow": null,
            "grid_auto_rows": null,
            "grid_column": null,
            "grid_gap": null,
            "grid_row": null,
            "grid_template_areas": null,
            "grid_template_columns": null,
            "grid_template_rows": null,
            "height": null,
            "justify_content": null,
            "justify_items": null,
            "left": null,
            "margin": null,
            "max_height": null,
            "max_width": null,
            "min_height": null,
            "min_width": null,
            "object_fit": null,
            "object_position": null,
            "order": null,
            "overflow": null,
            "overflow_x": null,
            "overflow_y": null,
            "padding": null,
            "right": null,
            "top": null,
            "visibility": null,
            "width": null
          }
        },
        "1d13fb1681714b24a1ea31ee3e26689c": {
          "model_module": "@jupyter-widgets/controls",
          "model_name": "VBoxModel",
          "model_module_version": "1.5.0",
          "state": {
            "_dom_classes": [
              "widget-interact"
            ],
            "_model_module": "@jupyter-widgets/controls",
            "_model_module_version": "1.5.0",
            "_model_name": "VBoxModel",
            "_view_count": null,
            "_view_module": "@jupyter-widgets/controls",
            "_view_module_version": "1.5.0",
            "_view_name": "VBoxView",
            "box_style": "",
            "children": [
              "IPY_MODEL_e271fd80131b4734b47260c1f66f15b8",
              "IPY_MODEL_17e736738af9484ba1bc801ac49aeb80",
              "IPY_MODEL_e9664bf7342d42ff95144c40bcfefcaa"
            ],
            "layout": "IPY_MODEL_a7f272fc22a74b88bb0a55ed6a5720e6"
          }
        },
        "e271fd80131b4734b47260c1f66f15b8": {
          "model_module": "@jupyter-widgets/controls",
          "model_name": "IntSliderModel",
          "model_module_version": "1.5.0",
          "state": {
            "_dom_classes": [],
            "_model_module": "@jupyter-widgets/controls",
            "_model_module_version": "1.5.0",
            "_model_name": "IntSliderModel",
            "_view_count": null,
            "_view_module": "@jupyter-widgets/controls",
            "_view_module_version": "1.5.0",
            "_view_name": "IntSliderView",
            "continuous_update": true,
            "description": "測試編號",
            "description_tooltip": null,
            "disabled": false,
            "layout": "IPY_MODEL_7c53fc481644480294971535b6d00642",
            "max": 9999,
            "min": 0,
            "orientation": "horizontal",
            "readout": true,
            "readout_format": "d",
            "step": 1,
            "style": "IPY_MODEL_2fd940c1caf241e2abd5b3d3a2f50974",
            "value": 4999
          }
        },
        "17e736738af9484ba1bc801ac49aeb80": {
          "model_module": "@jupyter-widgets/controls",
          "model_name": "ButtonModel",
          "model_module_version": "1.5.0",
          "state": {
            "_dom_classes": [],
            "_model_module": "@jupyter-widgets/controls",
            "_model_module_version": "1.5.0",
            "_model_name": "ButtonModel",
            "_view_count": null,
            "_view_module": "@jupyter-widgets/controls",
            "_view_module_version": "1.5.0",
            "_view_name": "ButtonView",
            "button_style": "",
            "description": "Run Interact",
            "disabled": false,
            "icon": "",
            "layout": "IPY_MODEL_a451a3162cc94989a8a6beccec87ee29",
            "style": "IPY_MODEL_e57a9606b05d4c4e910f2050cfcef8c3",
            "tooltip": ""
          }
        },
        "e9664bf7342d42ff95144c40bcfefcaa": {
          "model_module": "@jupyter-widgets/output",
          "model_name": "OutputModel",
          "model_module_version": "1.0.0",
          "state": {
            "_dom_classes": [],
            "_model_module": "@jupyter-widgets/output",
            "_model_module_version": "1.0.0",
            "_model_name": "OutputModel",
            "_view_count": null,
            "_view_module": "@jupyter-widgets/output",
            "_view_module_version": "1.0.0",
            "_view_name": "OutputView",
            "layout": "IPY_MODEL_7ddde9a043214450998eab9a645b5439",
            "msg_id": "",
            "outputs": []
          }
        },
        "a7f272fc22a74b88bb0a55ed6a5720e6": {
          "model_module": "@jupyter-widgets/base",
          "model_name": "LayoutModel",
          "model_module_version": "1.2.0",
          "state": {
            "_model_module": "@jupyter-widgets/base",
            "_model_module_version": "1.2.0",
            "_model_name": "LayoutModel",
            "_view_count": null,
            "_view_module": "@jupyter-widgets/base",
            "_view_module_version": "1.2.0",
            "_view_name": "LayoutView",
            "align_content": null,
            "align_items": null,
            "align_self": null,
            "border": null,
            "bottom": null,
            "display": null,
            "flex": null,
            "flex_flow": null,
            "grid_area": null,
            "grid_auto_columns": null,
            "grid_auto_flow": null,
            "grid_auto_rows": null,
            "grid_column": null,
            "grid_gap": null,
            "grid_row": null,
            "grid_template_areas": null,
            "grid_template_columns": null,
            "grid_template_rows": null,
            "height": null,
            "justify_content": null,
            "justify_items": null,
            "left": null,
            "margin": null,
            "max_height": null,
            "max_width": null,
            "min_height": null,
            "min_width": null,
            "object_fit": null,
            "object_position": null,
            "order": null,
            "overflow": null,
            "overflow_x": null,
            "overflow_y": null,
            "padding": null,
            "right": null,
            "top": null,
            "visibility": null,
            "width": null
          }
        },
        "7c53fc481644480294971535b6d00642": {
          "model_module": "@jupyter-widgets/base",
          "model_name": "LayoutModel",
          "model_module_version": "1.2.0",
          "state": {
            "_model_module": "@jupyter-widgets/base",
            "_model_module_version": "1.2.0",
            "_model_name": "LayoutModel",
            "_view_count": null,
            "_view_module": "@jupyter-widgets/base",
            "_view_module_version": "1.2.0",
            "_view_name": "LayoutView",
            "align_content": null,
            "align_items": null,
            "align_self": null,
            "border": null,
            "bottom": null,
            "display": null,
            "flex": null,
            "flex_flow": null,
            "grid_area": null,
            "grid_auto_columns": null,
            "grid_auto_flow": null,
            "grid_auto_rows": null,
            "grid_column": null,
            "grid_gap": null,
            "grid_row": null,
            "grid_template_areas": null,
            "grid_template_columns": null,
            "grid_template_rows": null,
            "height": null,
            "justify_content": null,
            "justify_items": null,
            "left": null,
            "margin": null,
            "max_height": null,
            "max_width": null,
            "min_height": null,
            "min_width": null,
            "object_fit": null,
            "object_position": null,
            "order": null,
            "overflow": null,
            "overflow_x": null,
            "overflow_y": null,
            "padding": null,
            "right": null,
            "top": null,
            "visibility": null,
            "width": null
          }
        },
        "2fd940c1caf241e2abd5b3d3a2f50974": {
          "model_module": "@jupyter-widgets/controls",
          "model_name": "SliderStyleModel",
          "model_module_version": "1.5.0",
          "state": {
            "_model_module": "@jupyter-widgets/controls",
            "_model_module_version": "1.5.0",
            "_model_name": "SliderStyleModel",
            "_view_count": null,
            "_view_module": "@jupyter-widgets/base",
            "_view_module_version": "1.2.0",
            "_view_name": "StyleView",
            "description_width": "",
            "handle_color": null
          }
        },
        "a451a3162cc94989a8a6beccec87ee29": {
          "model_module": "@jupyter-widgets/base",
          "model_name": "LayoutModel",
          "model_module_version": "1.2.0",
          "state": {
            "_model_module": "@jupyter-widgets/base",
            "_model_module_version": "1.2.0",
            "_model_name": "LayoutModel",
            "_view_count": null,
            "_view_module": "@jupyter-widgets/base",
            "_view_module_version": "1.2.0",
            "_view_name": "LayoutView",
            "align_content": null,
            "align_items": null,
            "align_self": null,
            "border": null,
            "bottom": null,
            "display": null,
            "flex": null,
            "flex_flow": null,
            "grid_area": null,
            "grid_auto_columns": null,
            "grid_auto_flow": null,
            "grid_auto_rows": null,
            "grid_column": null,
            "grid_gap": null,
            "grid_row": null,
            "grid_template_areas": null,
            "grid_template_columns": null,
            "grid_template_rows": null,
            "height": null,
            "justify_content": null,
            "justify_items": null,
            "left": null,
            "margin": null,
            "max_height": null,
            "max_width": null,
            "min_height": null,
            "min_width": null,
            "object_fit": null,
            "object_position": null,
            "order": null,
            "overflow": null,
            "overflow_x": null,
            "overflow_y": null,
            "padding": null,
            "right": null,
            "top": null,
            "visibility": null,
            "width": null
          }
        },
        "e57a9606b05d4c4e910f2050cfcef8c3": {
          "model_module": "@jupyter-widgets/controls",
          "model_name": "ButtonStyleModel",
          "model_module_version": "1.5.0",
          "state": {
            "_model_module": "@jupyter-widgets/controls",
            "_model_module_version": "1.5.0",
            "_model_name": "ButtonStyleModel",
            "_view_count": null,
            "_view_module": "@jupyter-widgets/base",
            "_view_module_version": "1.2.0",
            "_view_name": "StyleView",
            "button_color": null,
            "font_weight": ""
          }
        },
        "7ddde9a043214450998eab9a645b5439": {
          "model_module": "@jupyter-widgets/base",
          "model_name": "LayoutModel",
          "model_module_version": "1.2.0",
          "state": {
            "_model_module": "@jupyter-widgets/base",
            "_model_module_version": "1.2.0",
            "_model_name": "LayoutModel",
            "_view_count": null,
            "_view_module": "@jupyter-widgets/base",
            "_view_module_version": "1.2.0",
            "_view_name": "LayoutView",
            "align_content": null,
            "align_items": null,
            "align_self": null,
            "border": null,
            "bottom": null,
            "display": null,
            "flex": null,
            "flex_flow": null,
            "grid_area": null,
            "grid_auto_columns": null,
            "grid_auto_flow": null,
            "grid_auto_rows": null,
            "grid_column": null,
            "grid_gap": null,
            "grid_row": null,
            "grid_template_areas": null,
            "grid_template_columns": null,
            "grid_template_rows": null,
            "height": null,
            "justify_content": null,
            "justify_items": null,
            "left": null,
            "margin": null,
            "max_height": null,
            "max_width": null,
            "min_height": null,
            "min_width": null,
            "object_fit": null,
            "object_position": null,
            "order": null,
            "overflow": null,
            "overflow_x": null,
            "overflow_y": null,
            "padding": null,
            "right": null,
            "top": null,
            "visibility": null,
            "width": null
          }
        }
      }
    }
  },
  "cells": [
    {
      "cell_type": "markdown",
      "metadata": {
        "id": "view-in-github",
        "colab_type": "text"
      },
      "source": [
        "<a href=\"https://colab.research.google.com/github/david2003-bite-10-23/generative_ai/blob/main/%E7%94%9F%E6%88%90%E5%BC%8FAI_0225%E4%BD%9C%E6%A5%AD.ipynb\" target=\"_parent\"><img src=\"https://colab.research.google.com/assets/colab-badge.svg\" alt=\"Open In Colab\"/></a>"
      ]
    },
    {
      "cell_type": "markdown",
      "source": [
        "內容大綱:\n",
        "這一次的作業是實做一個神經網絡，我主要是實作一層的flatten加上4層的FC，FC的參數由大到小(256/128/64/32)這是為了避免過擬合，有加上基本的augmentation(縮放以及15度的小角度旋轉)，優化器改為Adam做自適應超參數調整，lr=0.001，其餘的部分基本不變\n",
        "\n",
        "以下是訓練過程、最終的accuracy以及gradio的測試截圖\n",
        "![image.png](data:image/png;base64,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)\n",
        "![image.png](data:image/png;base64,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)\n",
        "![image.png](data:image/png;base64,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)\n",
        "![image.png](data:image/png;base64,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)\n",
        "\n"
      ],
      "metadata": {
        "id": "WDIZ4tBmupjM"
      }
    },
    {
      "cell_type": "markdown",
      "metadata": {
        "id": "peN7YRgV0Ave"
      },
      "source": [
        "設定神經元(這樣的設計讓較高層次的抽象逐步提煉，並且逐漸減少參數量，有助於降低過擬合的風險)\n",
        "神經網絡改為4+1層(因為有做augmentation所以加了一層flatten層幫我做reshape)"
      ]
    },
    {
      "cell_type": "code",
      "source": [
        "N1 = 256\n",
        "N2 = 128\n",
        "N3 = 64\n",
        "N4 = 32"
      ],
      "metadata": {
        "id": "4Nh6oQpK2Y5W"
      },
      "execution_count": 121,
      "outputs": []
    },
    {
      "cell_type": "code",
      "source": [
        "!pip install --upgrade gradio\n"
      ],
      "metadata": {
        "id": "fdIz5z2klW4S",
        "colab": {
          "base_uri": "https://localhost:8080/"
        },
        "outputId": "78b8fe95-ec37-46d6-ee54-4bacef199fda"
      },
      "execution_count": 122,
      "outputs": [
        {
          "output_type": "stream",
          "name": "stdout",
          "text": [
            "Requirement already satisfied: gradio in /usr/local/lib/python3.11/dist-packages (5.20.1)\n",
            "Requirement already satisfied: aiofiles<24.0,>=22.0 in /usr/local/lib/python3.11/dist-packages (from gradio) (23.2.1)\n",
            "Requirement already satisfied: anyio<5.0,>=3.0 in /usr/local/lib/python3.11/dist-packages (from gradio) (3.7.1)\n",
            "Requirement already satisfied: fastapi<1.0,>=0.115.2 in /usr/local/lib/python3.11/dist-packages (from gradio) (0.115.11)\n",
            "Requirement already satisfied: ffmpy in /usr/local/lib/python3.11/dist-packages (from gradio) (0.5.0)\n",
            "Requirement already satisfied: gradio-client==1.7.2 in /usr/local/lib/python3.11/dist-packages (from gradio) (1.7.2)\n",
            "Requirement already satisfied: groovy~=0.1 in /usr/local/lib/python3.11/dist-packages (from gradio) (0.1.2)\n",
            "Requirement already satisfied: httpx>=0.24.1 in /usr/local/lib/python3.11/dist-packages (from gradio) (0.28.1)\n",
            "Requirement already satisfied: huggingface-hub>=0.28.1 in /usr/local/lib/python3.11/dist-packages (from gradio) (0.28.1)\n",
            "Requirement already satisfied: jinja2<4.0 in /usr/local/lib/python3.11/dist-packages (from gradio) (3.1.5)\n",
            "Requirement already satisfied: markupsafe~=2.0 in /usr/local/lib/python3.11/dist-packages (from gradio) (2.1.5)\n",
            "Requirement already satisfied: numpy<3.0,>=1.0 in /usr/local/lib/python3.11/dist-packages (from gradio) (1.26.4)\n",
            "Requirement already satisfied: orjson~=3.0 in /usr/local/lib/python3.11/dist-packages (from gradio) (3.10.15)\n",
            "Requirement already satisfied: packaging in /usr/local/lib/python3.11/dist-packages (from gradio) (24.2)\n",
            "Requirement already satisfied: pandas<3.0,>=1.0 in /usr/local/lib/python3.11/dist-packages (from gradio) (2.2.2)\n",
            "Requirement already satisfied: pillow<12.0,>=8.0 in /usr/local/lib/python3.11/dist-packages (from gradio) (11.1.0)\n",
            "Requirement already satisfied: pydantic>=2.0 in /usr/local/lib/python3.11/dist-packages (from gradio) (2.10.6)\n",
            "Requirement already satisfied: pydub in /usr/local/lib/python3.11/dist-packages (from gradio) (0.25.1)\n",
            "Requirement already satisfied: python-multipart>=0.0.18 in /usr/local/lib/python3.11/dist-packages (from gradio) (0.0.20)\n",
            "Requirement already satisfied: pyyaml<7.0,>=5.0 in /usr/local/lib/python3.11/dist-packages (from gradio) (6.0.2)\n",
            "Requirement already satisfied: ruff>=0.9.3 in /usr/local/lib/python3.11/dist-packages (from gradio) (0.9.10)\n",
            "Requirement already satisfied: safehttpx<0.2.0,>=0.1.6 in /usr/local/lib/python3.11/dist-packages (from gradio) (0.1.6)\n",
            "Requirement already satisfied: semantic-version~=2.0 in /usr/local/lib/python3.11/dist-packages (from gradio) (2.10.0)\n",
            "Requirement already satisfied: starlette<1.0,>=0.40.0 in /usr/local/lib/python3.11/dist-packages (from gradio) (0.46.1)\n",
            "Requirement already satisfied: tomlkit<0.14.0,>=0.12.0 in /usr/local/lib/python3.11/dist-packages (from gradio) (0.13.2)\n",
            "Requirement already satisfied: typer<1.0,>=0.12 in /usr/local/lib/python3.11/dist-packages (from gradio) (0.15.2)\n",
            "Requirement already satisfied: typing-extensions~=4.0 in /usr/local/lib/python3.11/dist-packages (from gradio) (4.12.2)\n",
            "Requirement already satisfied: uvicorn>=0.14.0 in /usr/local/lib/python3.11/dist-packages (from gradio) (0.34.0)\n",
            "Requirement already satisfied: fsspec in /usr/local/lib/python3.11/dist-packages (from gradio-client==1.7.2->gradio) (2024.10.0)\n",
            "Requirement already satisfied: websockets<16.0,>=10.0 in /usr/local/lib/python3.11/dist-packages (from gradio-client==1.7.2->gradio) (14.2)\n",
            "Requirement already satisfied: idna>=2.8 in /usr/local/lib/python3.11/dist-packages (from anyio<5.0,>=3.0->gradio) (3.10)\n",
            "Requirement already satisfied: sniffio>=1.1 in /usr/local/lib/python3.11/dist-packages (from anyio<5.0,>=3.0->gradio) (1.3.1)\n",
            "Requirement already satisfied: certifi in /usr/local/lib/python3.11/dist-packages (from httpx>=0.24.1->gradio) (2025.1.31)\n",
            "Requirement already satisfied: httpcore==1.* in /usr/local/lib/python3.11/dist-packages (from httpx>=0.24.1->gradio) (1.0.7)\n",
            "Requirement already satisfied: h11<0.15,>=0.13 in /usr/local/lib/python3.11/dist-packages (from httpcore==1.*->httpx>=0.24.1->gradio) (0.14.0)\n",
            "Requirement already satisfied: filelock in /usr/local/lib/python3.11/dist-packages (from huggingface-hub>=0.28.1->gradio) (3.17.0)\n",
            "Requirement already satisfied: requests in /usr/local/lib/python3.11/dist-packages (from huggingface-hub>=0.28.1->gradio) (2.32.3)\n",
            "Requirement already satisfied: tqdm>=4.42.1 in /usr/local/lib/python3.11/dist-packages (from huggingface-hub>=0.28.1->gradio) (4.67.1)\n",
            "Requirement already satisfied: python-dateutil>=2.8.2 in /usr/local/lib/python3.11/dist-packages (from pandas<3.0,>=1.0->gradio) (2.8.2)\n",
            "Requirement already satisfied: pytz>=2020.1 in /usr/local/lib/python3.11/dist-packages (from pandas<3.0,>=1.0->gradio) (2025.1)\n",
            "Requirement already satisfied: tzdata>=2022.7 in /usr/local/lib/python3.11/dist-packages (from pandas<3.0,>=1.0->gradio) (2025.1)\n",
            "Requirement already satisfied: annotated-types>=0.6.0 in /usr/local/lib/python3.11/dist-packages (from pydantic>=2.0->gradio) (0.7.0)\n",
            "Requirement already satisfied: pydantic-core==2.27.2 in /usr/local/lib/python3.11/dist-packages (from pydantic>=2.0->gradio) (2.27.2)\n",
            "Requirement already satisfied: click>=8.0.0 in /usr/local/lib/python3.11/dist-packages (from typer<1.0,>=0.12->gradio) (8.1.8)\n",
            "Requirement already satisfied: shellingham>=1.3.0 in /usr/local/lib/python3.11/dist-packages (from typer<1.0,>=0.12->gradio) (1.5.4)\n",
            "Requirement already satisfied: rich>=10.11.0 in /usr/local/lib/python3.11/dist-packages (from typer<1.0,>=0.12->gradio) (13.9.4)\n",
            "Requirement already satisfied: six>=1.5 in /usr/local/lib/python3.11/dist-packages (from python-dateutil>=2.8.2->pandas<3.0,>=1.0->gradio) (1.17.0)\n",
            "Requirement already satisfied: markdown-it-py>=2.2.0 in /usr/local/lib/python3.11/dist-packages (from rich>=10.11.0->typer<1.0,>=0.12->gradio) (3.0.0)\n",
            "Requirement already satisfied: pygments<3.0.0,>=2.13.0 in /usr/local/lib/python3.11/dist-packages (from rich>=10.11.0->typer<1.0,>=0.12->gradio) (2.18.0)\n",
            "Requirement already satisfied: charset-normalizer<4,>=2 in /usr/local/lib/python3.11/dist-packages (from requests->huggingface-hub>=0.28.1->gradio) (3.4.1)\n",
            "Requirement already satisfied: urllib3<3,>=1.21.1 in /usr/local/lib/python3.11/dist-packages (from requests->huggingface-hub>=0.28.1->gradio) (2.3.0)\n",
            "Requirement already satisfied: mdurl~=0.1 in /usr/local/lib/python3.11/dist-packages (from markdown-it-py>=2.2.0->rich>=10.11.0->typer<1.0,>=0.12->gradio) (0.1.2)\n"
          ]
        }
      ]
    },
    {
      "cell_type": "code",
      "metadata": {
        "id": "pEq2NFpF0Avf"
      },
      "source": [
        "%matplotlib inline\n",
        "\n",
        "# 標準數據分析、畫圖套件\n",
        "import numpy as np\n",
        "import matplotlib.pyplot as plt\n",
        "from PIL import Image\n",
        "\n",
        "# 神經網路方面\n",
        "import tensorflow as tf\n",
        "from tensorflow.keras.datasets import mnist\n",
        "from tensorflow.keras.utils import to_categorical\n",
        "from tensorflow.keras.models import Sequential\n",
        "from tensorflow.keras.layers import Dense\n",
        "from tensorflow.keras.optimizers import SGD\n",
        "\n",
        "# 互動設計用\n",
        "from ipywidgets import interact_manual\n",
        "\n",
        "# 神速打造 web app 的 Gradio\n",
        "import gradio as gr"
      ],
      "execution_count": 123,
      "outputs": []
    },
    {
      "cell_type": "markdown",
      "metadata": {
        "id": "wVSdolkn0Avg"
      },
      "source": [
        "###由 Keras 讀入 MNIST"
      ]
    },
    {
      "cell_type": "markdown",
      "metadata": {
        "id": "b0UEBwg60Avg"
      },
      "source": [
        "讀取資料庫"
      ]
    },
    {
      "cell_type": "code",
      "metadata": {
        "id": "LKuZWeVy0Avg"
      },
      "source": [
        "(x_train, y_train), (x_test, y_test) = mnist.load_data()"
      ],
      "execution_count": 124,
      "outputs": []
    },
    {
      "cell_type": "code",
      "metadata": {
        "id": "Z_8DkCJC0Avh",
        "colab": {
          "base_uri": "https://localhost:8080/"
        },
        "outputId": "7e74d1f7-0254-4d2b-e7b0-f4586ff1a03e"
      },
      "source": [
        "print(f'訓練資料總筆數為 {len(x_train)} 筆資料')\n",
        "print(f'測試資料總筆數為 {len(x_test)} 筆資料')"
      ],
      "execution_count": 125,
      "outputs": [
        {
          "output_type": "stream",
          "name": "stdout",
          "text": [
            "訓練資料總筆數為 60000 筆資料\n",
            "測試資料總筆數為 10000 筆資料\n"
          ]
        }
      ]
    },
    {
      "cell_type": "code",
      "metadata": {
        "id": "l5RwWLHx0Avi"
      },
      "source": [
        "def show_xy(n=0):\n",
        "    ax = plt.gca()\n",
        "    X = x_train[n]\n",
        "    plt.xticks([], [])\n",
        "    plt.yticks([], [])\n",
        "    plt.imshow(X, cmap = 'Greys')\n",
        "    print(f'本資料 y 給定的答案為: {y_train[n]}')"
      ],
      "execution_count": 126,
      "outputs": []
    },
    {
      "cell_type": "code",
      "metadata": {
        "id": "RfBAIU280Avj",
        "colab": {
          "base_uri": "https://localhost:8080/",
          "height": 81,
          "referenced_widgets": [
            "7a5f2e1a50e1431ea56fa24eb0614ee1",
            "ed1e9897c99a430c9b2b07c6e48988c7",
            "5ff9696a4a564e728b2689288bb7d3fe",
            "aad7a626c6f94469bf21d0c2cb79642b",
            "08cfa8d4e6af4f178affb4799a9723bd",
            "c03c3c9ad10a4f0299b77d84028f3b56",
            "5401fb3c1dc04c7dba6bda4632a89229",
            "5803590538d44647ba8b8bddbfc5cb52",
            "c522000894b94203b34fa00f81080ce0",
            "b6b98bb29aa2447ebbdc545b1f2a3700"
          ]
        },
        "outputId": "a101dffa-1d90-4c09-8412-981464b01c9e"
      },
      "source": [
        "interact_manual(show_xy, n=(0,59999));"
      ],
      "execution_count": 127,
      "outputs": [
        {
          "output_type": "display_data",
          "data": {
            "text/plain": [
              "interactive(children=(IntSlider(value=0, description='n', max=59999), Button(description='Run Interact', style…"
            ],
            "application/vnd.jupyter.widget-view+json": {
              "version_major": 2,
              "version_minor": 0,
              "model_id": "7a5f2e1a50e1431ea56fa24eb0614ee1"
            }
          },
          "metadata": {}
        }
      ]
    },
    {
      "cell_type": "code",
      "metadata": {
        "id": "Us54Okz50Avj"
      },
      "source": [
        "def show_data(n = 100):\n",
        "    X = x_train[n]\n",
        "    print(X)"
      ],
      "execution_count": 128,
      "outputs": []
    },
    {
      "cell_type": "code",
      "metadata": {
        "id": "M11bhEOl0Avj",
        "colab": {
          "base_uri": "https://localhost:8080/",
          "height": 81,
          "referenced_widgets": [
            "3bc0608eb67043d4bec5c15bc065adb5",
            "e71fe4ab5a5049669b15b2b08e31ff95",
            "001e1f87a9e843cabb1350c8cf4b9af5",
            "86ed99a4a9334e42936e9ba9285e8c34",
            "c4f97e0942bd46c9bc0dabdd8741a015",
            "61d7985d80bf41dda9e28ec087dcacb2",
            "120acad0af7148abb805f693e72cebbb",
            "72d04186e3de4086be2949d728de48a6",
            "3b76148becac45acb15c5cd5c2b0207c",
            "af5aa5ffc65c479abe77970b3f10e994"
          ]
        },
        "outputId": "e7c7191e-8b4f-418a-8bb4-f2d9631a5a81"
      },
      "source": [
        "interact_manual(show_data, n=(0,59999));"
      ],
      "execution_count": 129,
      "outputs": [
        {
          "output_type": "display_data",
          "data": {
            "text/plain": [
              "interactive(children=(IntSlider(value=100, description='n', max=59999), Button(description='Run Interact', sty…"
            ],
            "application/vnd.jupyter.widget-view+json": {
              "version_major": 2,
              "version_minor": 0,
              "model_id": "3bc0608eb67043d4bec5c15bc065adb5"
            }
          },
          "metadata": {}
        }
      ]
    },
    {
      "cell_type": "code",
      "metadata": {
        "id": "pT7oXt8B0Avk"
      },
      "source": [
        "x_train = x_train.reshape(60000, 784)/255\n",
        "x_test = x_test.reshape(10000, 784)/255"
      ],
      "execution_count": 130,
      "outputs": []
    },
    {
      "cell_type": "code",
      "metadata": {
        "id": "_i22oLVf0Avl"
      },
      "source": [
        "y_train = to_categorical(y_train, 10)\n",
        "y_test = to_categorical(y_test, 10)\n",
        "\n",
        "# 將原本的 28x28 數據 reshape 為 (28,28,1)\n",
        "x_train_aug = x_train.reshape(-1, 28, 28, 1)\n",
        "x_test_aug = x_test.reshape(-1, 28, 28, 1)\n",
        "\n",
        "# 定義 augmentation，只做隨機縮放和小角度旋轉（不超過15度）\n",
        "from tensorflow.keras.preprocessing.image import ImageDataGenerator\n",
        "datagen = ImageDataGenerator(\n",
        "    rotation_range=15,  # 小角度旋轉\n",
        "    zoom_range=0.1      # 隨機縮放\n",
        ")\n",
        "\n",
        "datagen.fit(x_train_aug)\n"
      ],
      "execution_count": 131,
      "outputs": []
    },
    {
      "cell_type": "code",
      "metadata": {
        "id": "SxkwtCy-0Avm",
        "colab": {
          "base_uri": "https://localhost:8080/"
        },
        "outputId": "b47b9c56-324a-42f9-e853-97770a474d71"
      },
      "source": [
        "n = 87\n",
        "y_train[n]"
      ],
      "execution_count": 132,
      "outputs": [
        {
          "output_type": "execute_result",
          "data": {
            "text/plain": [
              "array([0., 0., 0., 0., 0., 0., 0., 0., 0., 1.])"
            ]
          },
          "metadata": {},
          "execution_count": 132
        }
      ]
    },
    {
      "cell_type": "markdown",
      "metadata": {
        "id": "LBBc2NsJ0Avm"
      },
      "source": [
        "和我們想的一樣! 至此我們可以打造我們的神經網路了。"
      ]
    },
    {
      "cell_type": "code",
      "metadata": {
        "id": "F_fx6jw80Avm"
      },
      "source": [
        "model = Sequential()"
      ],
      "execution_count": 133,
      "outputs": []
    },
    {
      "cell_type": "code",
      "metadata": {
        "id": "wrBnZ3Xw0Avn"
      },
      "source": [
        "from tensorflow.keras.layers import Flatten\n",
        "model.add(Flatten(input_shape=(28,28,1)))\n",
        "model.add(Dense(N1, input_dim=784, activation='relu'))\n",
        "model.add(Dense(N2, activation='relu'))\n",
        "model.add(Dense(N3, activation='relu'))\n",
        "model.add(Dense(N4, activation='relu'))\n",
        "model.add(Dense(10, activation='softmax'))"
      ],
      "execution_count": 134,
      "outputs": []
    },
    {
      "cell_type": "code",
      "metadata": {
        "id": "H6P7C6Nk0Avo"
      },
      "source": [],
      "execution_count": 134,
      "outputs": []
    },
    {
      "cell_type": "markdown",
      "metadata": {
        "id": "kjEWy_q10Avo"
      },
      "source": [
        "至此我們的第一個神經網路就建好了!"
      ]
    },
    {
      "cell_type": "code",
      "metadata": {
        "id": "lGLgh8Gz0Avo"
      },
      "source": [
        "from tensorflow.keras.optimizers import Adam\n",
        "\n",
        "model.compile(\n",
        "    loss='categorical_crossentropy',\n",
        "    optimizer=Adam(learning_rate=0.001),\n",
        "    metrics=['accuracy']\n",
        ")\n"
      ],
      "execution_count": 135,
      "outputs": []
    },
    {
      "cell_type": "markdown",
      "metadata": {
        "id": "UPdrQNHV0Avo"
      },
      "source": [
        "我們可以檢視我們神經網路的架構, 可以確認一下是不是和我們想像的一樣。"
      ]
    },
    {
      "cell_type": "code",
      "metadata": {
        "id": "0yJJowZE0Avp",
        "colab": {
          "base_uri": "https://localhost:8080/",
          "height": 340
        },
        "outputId": "fecfb63c-865a-4b27-db7a-d2ae28759acd"
      },
      "source": [
        "model.summary()"
      ],
      "execution_count": 136,
      "outputs": [
        {
          "output_type": "display_data",
          "data": {
            "text/plain": [
              "\u001b[1mModel: \"sequential_5\"\u001b[0m\n"
            ],
            "text/html": [
              "<pre style=\"white-space:pre;overflow-x:auto;line-height:normal;font-family:Menlo,'DejaVu Sans Mono',consolas,'Courier New',monospace\"><span style=\"font-weight: bold\">Model: \"sequential_5\"</span>\n",
              "</pre>\n"
            ]
          },
          "metadata": {}
        },
        {
          "output_type": "display_data",
          "data": {
            "text/plain": [
              "┏━━━━━━━━━━━━━━━━━━━━━━━━━━━━━━━━━━━━━━┳━━━━━━━━━━━━━━━━━━━━━━━━━━━━━┳━━━━━━━━━━━━━━━━━┓\n",
              "┃\u001b[1m \u001b[0m\u001b[1mLayer (type)                        \u001b[0m\u001b[1m \u001b[0m┃\u001b[1m \u001b[0m\u001b[1mOutput Shape               \u001b[0m\u001b[1m \u001b[0m┃\u001b[1m \u001b[0m\u001b[1m        Param #\u001b[0m\u001b[1m \u001b[0m┃\n",
              "┡━━━━━━━━━━━━━━━━━━━━━━━━━━━━━━━━━━━━━━╇━━━━━━━━━━━━━━━━━━━━━━━━━━━━━╇━━━━━━━━━━━━━━━━━┩\n",
              "│ flatten_5 (\u001b[38;5;33mFlatten\u001b[0m)                  │ (\u001b[38;5;45mNone\u001b[0m, \u001b[38;5;34m784\u001b[0m)                 │               \u001b[38;5;34m0\u001b[0m │\n",
              "├──────────────────────────────────────┼─────────────────────────────┼─────────────────┤\n",
              "│ dense_25 (\u001b[38;5;33mDense\u001b[0m)                     │ (\u001b[38;5;45mNone\u001b[0m, \u001b[38;5;34m256\u001b[0m)                 │         \u001b[38;5;34m200,960\u001b[0m │\n",
              "├──────────────────────────────────────┼─────────────────────────────┼─────────────────┤\n",
              "│ dense_26 (\u001b[38;5;33mDense\u001b[0m)                     │ (\u001b[38;5;45mNone\u001b[0m, \u001b[38;5;34m128\u001b[0m)                 │          \u001b[38;5;34m32,896\u001b[0m │\n",
              "├──────────────────────────────────────┼─────────────────────────────┼─────────────────┤\n",
              "│ dense_27 (\u001b[38;5;33mDense\u001b[0m)                     │ (\u001b[38;5;45mNone\u001b[0m, \u001b[38;5;34m64\u001b[0m)                  │           \u001b[38;5;34m8,256\u001b[0m │\n",
              "├──────────────────────────────────────┼─────────────────────────────┼─────────────────┤\n",
              "│ dense_28 (\u001b[38;5;33mDense\u001b[0m)                     │ (\u001b[38;5;45mNone\u001b[0m, \u001b[38;5;34m32\u001b[0m)                  │           \u001b[38;5;34m2,080\u001b[0m │\n",
              "├──────────────────────────────────────┼─────────────────────────────┼─────────────────┤\n",
              "│ dense_29 (\u001b[38;5;33mDense\u001b[0m)                     │ (\u001b[38;5;45mNone\u001b[0m, \u001b[38;5;34m10\u001b[0m)                  │             \u001b[38;5;34m330\u001b[0m │\n",
              "└──────────────────────────────────────┴─────────────────────────────┴─────────────────┘\n"
            ],
            "text/html": [
              "<pre style=\"white-space:pre;overflow-x:auto;line-height:normal;font-family:Menlo,'DejaVu Sans Mono',consolas,'Courier New',monospace\">┏━━━━━━━━━━━━━━━━━━━━━━━━━━━━━━━━━━━━━━┳━━━━━━━━━━━━━━━━━━━━━━━━━━━━━┳━━━━━━━━━━━━━━━━━┓\n",
              "┃<span style=\"font-weight: bold\"> Layer (type)                         </span>┃<span style=\"font-weight: bold\"> Output Shape                </span>┃<span style=\"font-weight: bold\">         Param # </span>┃\n",
              "┡━━━━━━━━━━━━━━━━━━━━━━━━━━━━━━━━━━━━━━╇━━━━━━━━━━━━━━━━━━━━━━━━━━━━━╇━━━━━━━━━━━━━━━━━┩\n",
              "│ flatten_5 (<span style=\"color: #0087ff; text-decoration-color: #0087ff\">Flatten</span>)                  │ (<span style=\"color: #00d7ff; text-decoration-color: #00d7ff\">None</span>, <span style=\"color: #00af00; text-decoration-color: #00af00\">784</span>)                 │               <span style=\"color: #00af00; text-decoration-color: #00af00\">0</span> │\n",
              "├──────────────────────────────────────┼─────────────────────────────┼─────────────────┤\n",
              "│ dense_25 (<span style=\"color: #0087ff; text-decoration-color: #0087ff\">Dense</span>)                     │ (<span style=\"color: #00d7ff; text-decoration-color: #00d7ff\">None</span>, <span style=\"color: #00af00; text-decoration-color: #00af00\">256</span>)                 │         <span style=\"color: #00af00; text-decoration-color: #00af00\">200,960</span> │\n",
              "├──────────────────────────────────────┼─────────────────────────────┼─────────────────┤\n",
              "│ dense_26 (<span style=\"color: #0087ff; text-decoration-color: #0087ff\">Dense</span>)                     │ (<span style=\"color: #00d7ff; text-decoration-color: #00d7ff\">None</span>, <span style=\"color: #00af00; text-decoration-color: #00af00\">128</span>)                 │          <span style=\"color: #00af00; text-decoration-color: #00af00\">32,896</span> │\n",
              "├──────────────────────────────────────┼─────────────────────────────┼─────────────────┤\n",
              "│ dense_27 (<span style=\"color: #0087ff; text-decoration-color: #0087ff\">Dense</span>)                     │ (<span style=\"color: #00d7ff; text-decoration-color: #00d7ff\">None</span>, <span style=\"color: #00af00; text-decoration-color: #00af00\">64</span>)                  │           <span style=\"color: #00af00; text-decoration-color: #00af00\">8,256</span> │\n",
              "├──────────────────────────────────────┼─────────────────────────────┼─────────────────┤\n",
              "│ dense_28 (<span style=\"color: #0087ff; text-decoration-color: #0087ff\">Dense</span>)                     │ (<span style=\"color: #00d7ff; text-decoration-color: #00d7ff\">None</span>, <span style=\"color: #00af00; text-decoration-color: #00af00\">32</span>)                  │           <span style=\"color: #00af00; text-decoration-color: #00af00\">2,080</span> │\n",
              "├──────────────────────────────────────┼─────────────────────────────┼─────────────────┤\n",
              "│ dense_29 (<span style=\"color: #0087ff; text-decoration-color: #0087ff\">Dense</span>)                     │ (<span style=\"color: #00d7ff; text-decoration-color: #00d7ff\">None</span>, <span style=\"color: #00af00; text-decoration-color: #00af00\">10</span>)                  │             <span style=\"color: #00af00; text-decoration-color: #00af00\">330</span> │\n",
              "└──────────────────────────────────────┴─────────────────────────────┴─────────────────┘\n",
              "</pre>\n"
            ]
          },
          "metadata": {}
        },
        {
          "output_type": "display_data",
          "data": {
            "text/plain": [
              "\u001b[1m Total params: \u001b[0m\u001b[38;5;34m244,522\u001b[0m (955.16 KB)\n"
            ],
            "text/html": [
              "<pre style=\"white-space:pre;overflow-x:auto;line-height:normal;font-family:Menlo,'DejaVu Sans Mono',consolas,'Courier New',monospace\"><span style=\"font-weight: bold\"> Total params: </span><span style=\"color: #00af00; text-decoration-color: #00af00\">244,522</span> (955.16 KB)\n",
              "</pre>\n"
            ]
          },
          "metadata": {}
        },
        {
          "output_type": "display_data",
          "data": {
            "text/plain": [
              "\u001b[1m Trainable params: \u001b[0m\u001b[38;5;34m244,522\u001b[0m (955.16 KB)\n"
            ],
            "text/html": [
              "<pre style=\"white-space:pre;overflow-x:auto;line-height:normal;font-family:Menlo,'DejaVu Sans Mono',consolas,'Courier New',monospace\"><span style=\"font-weight: bold\"> Trainable params: </span><span style=\"color: #00af00; text-decoration-color: #00af00\">244,522</span> (955.16 KB)\n",
              "</pre>\n"
            ]
          },
          "metadata": {}
        },
        {
          "output_type": "display_data",
          "data": {
            "text/plain": [
              "\u001b[1m Non-trainable params: \u001b[0m\u001b[38;5;34m0\u001b[0m (0.00 B)\n"
            ],
            "text/html": [
              "<pre style=\"white-space:pre;overflow-x:auto;line-height:normal;font-family:Menlo,'DejaVu Sans Mono',consolas,'Courier New',monospace\"><span style=\"font-weight: bold\"> Non-trainable params: </span><span style=\"color: #00af00; text-decoration-color: #00af00\">0</span> (0.00 B)\n",
              "</pre>\n"
            ]
          },
          "metadata": {}
        }
      ]
    },
    {
      "cell_type": "code",
      "metadata": {
        "colab": {
          "base_uri": "https://localhost:8080/"
        },
        "id": "1jwuUx4a0Avq",
        "outputId": "ba9a60b5-c01d-4546-bb58-c0595a7d2427"
      },
      "source": [
        "model.fit(datagen.flow(x_train_aug, y_train, batch_size=100), epochs=20)"
      ],
      "execution_count": 138,
      "outputs": [
        {
          "output_type": "stream",
          "name": "stdout",
          "text": [
            "Epoch 1/20\n",
            "\u001b[1m600/600\u001b[0m \u001b[32m━━━━━━━━━━━━━━━━━━━━\u001b[0m\u001b[37m\u001b[0m \u001b[1m14s\u001b[0m 23ms/step - accuracy: 0.9836 - loss: 0.0532\n",
            "Epoch 2/20\n",
            "\u001b[1m600/600\u001b[0m \u001b[32m━━━━━━━━━━━━━━━━━━━━\u001b[0m\u001b[37m\u001b[0m \u001b[1m14s\u001b[0m 24ms/step - accuracy: 0.9841 - loss: 0.0506\n",
            "Epoch 3/20\n",
            "\u001b[1m600/600\u001b[0m \u001b[32m━━━━━━━━━━━━━━━━━━━━\u001b[0m\u001b[37m\u001b[0m \u001b[1m17s\u001b[0m 29ms/step - accuracy: 0.9850 - loss: 0.0446\n",
            "Epoch 4/20\n",
            "\u001b[1m600/600\u001b[0m \u001b[32m━━━━━━━━━━━━━━━━━━━━\u001b[0m\u001b[37m\u001b[0m \u001b[1m17s\u001b[0m 28ms/step - accuracy: 0.9857 - loss: 0.0439\n",
            "Epoch 5/20\n",
            "\u001b[1m600/600\u001b[0m \u001b[32m━━━━━━━━━━━━━━━━━━━━\u001b[0m\u001b[37m\u001b[0m \u001b[1m14s\u001b[0m 23ms/step - accuracy: 0.9857 - loss: 0.0431\n",
            "Epoch 6/20\n",
            "\u001b[1m600/600\u001b[0m \u001b[32m━━━━━━━━━━━━━━━━━━━━\u001b[0m\u001b[37m\u001b[0m \u001b[1m15s\u001b[0m 24ms/step - accuracy: 0.9862 - loss: 0.0439\n",
            "Epoch 7/20\n",
            "\u001b[1m600/600\u001b[0m \u001b[32m━━━━━━━━━━━━━━━━━━━━\u001b[0m\u001b[37m\u001b[0m \u001b[1m20s\u001b[0m 23ms/step - accuracy: 0.9886 - loss: 0.0353\n",
            "Epoch 8/20\n",
            "\u001b[1m600/600\u001b[0m \u001b[32m━━━━━━━━━━━━━━━━━━━━\u001b[0m\u001b[37m\u001b[0m \u001b[1m14s\u001b[0m 23ms/step - accuracy: 0.9891 - loss: 0.0345\n",
            "Epoch 9/20\n",
            "\u001b[1m600/600\u001b[0m \u001b[32m━━━━━━━━━━━━━━━━━━━━\u001b[0m\u001b[37m\u001b[0m \u001b[1m15s\u001b[0m 25ms/step - accuracy: 0.9863 - loss: 0.0422\n",
            "Epoch 10/20\n",
            "\u001b[1m600/600\u001b[0m \u001b[32m━━━━━━━━━━━━━━━━━━━━\u001b[0m\u001b[37m\u001b[0m \u001b[1m20s\u001b[0m 24ms/step - accuracy: 0.9883 - loss: 0.0343\n",
            "Epoch 11/20\n",
            "\u001b[1m600/600\u001b[0m \u001b[32m━━━━━━━━━━━━━━━━━━━━\u001b[0m\u001b[37m\u001b[0m \u001b[1m18s\u001b[0m 31ms/step - accuracy: 0.9904 - loss: 0.0317\n",
            "Epoch 12/20\n",
            "\u001b[1m600/600\u001b[0m \u001b[32m━━━━━━━━━━━━━━━━━━━━\u001b[0m\u001b[37m\u001b[0m \u001b[1m16s\u001b[0m 27ms/step - accuracy: 0.9901 - loss: 0.0305\n",
            "Epoch 13/20\n",
            "\u001b[1m600/600\u001b[0m \u001b[32m━━━━━━━━━━━━━━━━━━━━\u001b[0m\u001b[37m\u001b[0m \u001b[1m15s\u001b[0m 26ms/step - accuracy: 0.9888 - loss: 0.0341\n",
            "Epoch 14/20\n",
            "\u001b[1m600/600\u001b[0m \u001b[32m━━━━━━━━━━━━━━━━━━━━\u001b[0m\u001b[37m\u001b[0m \u001b[1m18s\u001b[0m 30ms/step - accuracy: 0.9900 - loss: 0.0299\n",
            "Epoch 15/20\n",
            "\u001b[1m600/600\u001b[0m \u001b[32m━━━━━━━━━━━━━━━━━━━━\u001b[0m\u001b[37m\u001b[0m \u001b[1m15s\u001b[0m 25ms/step - accuracy: 0.9910 - loss: 0.0270\n",
            "Epoch 16/20\n",
            "\u001b[1m600/600\u001b[0m \u001b[32m━━━━━━━━━━━━━━━━━━━━\u001b[0m\u001b[37m\u001b[0m \u001b[1m16s\u001b[0m 27ms/step - accuracy: 0.9916 - loss: 0.0259\n",
            "Epoch 17/20\n",
            "\u001b[1m600/600\u001b[0m \u001b[32m━━━━━━━━━━━━━━━━━━━━\u001b[0m\u001b[37m\u001b[0m \u001b[1m16s\u001b[0m 27ms/step - accuracy: 0.9912 - loss: 0.0275\n",
            "Epoch 18/20\n",
            "\u001b[1m600/600\u001b[0m \u001b[32m━━━━━━━━━━━━━━━━━━━━\u001b[0m\u001b[37m\u001b[0m \u001b[1m16s\u001b[0m 26ms/step - accuracy: 0.9923 - loss: 0.0240\n",
            "Epoch 19/20\n",
            "\u001b[1m600/600\u001b[0m \u001b[32m━━━━━━━━━━━━━━━━━━━━\u001b[0m\u001b[37m\u001b[0m \u001b[1m15s\u001b[0m 25ms/step - accuracy: 0.9904 - loss: 0.0284\n",
            "Epoch 20/20\n",
            "\u001b[1m600/600\u001b[0m \u001b[32m━━━━━━━━━━━━━━━━━━━━\u001b[0m\u001b[37m\u001b[0m \u001b[1m17s\u001b[0m 29ms/step - accuracy: 0.9922 - loss: 0.0239\n"
          ]
        },
        {
          "output_type": "execute_result",
          "data": {
            "text/plain": [
              "<keras.src.callbacks.history.History at 0x790b92dc9650>"
            ]
          },
          "metadata": {},
          "execution_count": 138
        }
      ]
    },
    {
      "cell_type": "code",
      "metadata": {
        "id": "I9c1E_Cj0Avq",
        "colab": {
          "base_uri": "https://localhost:8080/"
        },
        "outputId": "6f09130a-d71f-4241-dee0-f04ba12466a0"
      },
      "source": [
        "loss, acc = model.evaluate(x_test_aug, y_test)"
      ],
      "execution_count": 139,
      "outputs": [
        {
          "output_type": "stream",
          "name": "stdout",
          "text": [
            "\u001b[1m313/313\u001b[0m \u001b[32m━━━━━━━━━━━━━━━━━━━━\u001b[0m\u001b[37m\u001b[0m \u001b[1m2s\u001b[0m 3ms/step - accuracy: 0.9846 - loss: 0.0555\n"
          ]
        }
      ]
    },
    {
      "cell_type": "code",
      "metadata": {
        "id": "Z5XOR_Pd0Avq",
        "colab": {
          "base_uri": "https://localhost:8080/"
        },
        "outputId": "ef18b09d-b943-4cf8-fdab-3337d8f09b78"
      },
      "source": [
        "print(f\"測試資料正確率 {acc*100:.2f}%\")"
      ],
      "execution_count": 140,
      "outputs": [
        {
          "output_type": "stream",
          "name": "stdout",
          "text": [
            "測試資料正確率 98.66%\n"
          ]
        }
      ]
    },
    {
      "cell_type": "markdown",
      "metadata": {
        "id": "XTog-oR90Avr"
      },
      "source": [
        "我們 \"predict\" 放的是我們神經網路的學習結果。做完之後用 argmax 找到數值最大的那一項。"
      ]
    },
    {
      "cell_type": "code",
      "metadata": {
        "id": "6MlKktZ50Avr",
        "colab": {
          "base_uri": "https://localhost:8080/"
        },
        "outputId": "46ba8f2a-5509-4ee1-ded1-5bcd83c11596"
      },
      "source": [
        "predict = np.argmax(model.predict(x_test_aug), axis=-1)"
      ],
      "execution_count": 141,
      "outputs": [
        {
          "output_type": "stream",
          "name": "stdout",
          "text": [
            "\u001b[1m313/313\u001b[0m \u001b[32m━━━━━━━━━━━━━━━━━━━━\u001b[0m\u001b[37m\u001b[0m \u001b[1m1s\u001b[0m 2ms/step\n"
          ]
        }
      ]
    },
    {
      "cell_type": "code",
      "metadata": {
        "id": "9R_o6HD_0Avr",
        "colab": {
          "base_uri": "https://localhost:8080/"
        },
        "outputId": "5eccbaa8-f8f6-46bc-e228-ddff939d7dcb"
      },
      "source": [
        "predict"
      ],
      "execution_count": 142,
      "outputs": [
        {
          "output_type": "execute_result",
          "data": {
            "text/plain": [
              "array([7, 2, 1, ..., 4, 5, 6])"
            ]
          },
          "metadata": {},
          "execution_count": 142
        }
      ]
    },
    {
      "cell_type": "code",
      "metadata": {
        "id": "v5i4Cxpo0Avs"
      },
      "source": [
        "def test(測試編號):\n",
        "    plt.imshow(x_test[測試編號].reshape(28,28), cmap='Greys')\n",
        "    print('神經網路判斷為:', predict[測試編號])"
      ],
      "execution_count": 143,
      "outputs": []
    },
    {
      "cell_type": "code",
      "metadata": {
        "id": "-KT1EFNc0Avs",
        "colab": {
          "base_uri": "https://localhost:8080/",
          "height": 81,
          "referenced_widgets": [
            "1d13fb1681714b24a1ea31ee3e26689c",
            "e271fd80131b4734b47260c1f66f15b8",
            "17e736738af9484ba1bc801ac49aeb80",
            "e9664bf7342d42ff95144c40bcfefcaa",
            "a7f272fc22a74b88bb0a55ed6a5720e6",
            "7c53fc481644480294971535b6d00642",
            "2fd940c1caf241e2abd5b3d3a2f50974",
            "a451a3162cc94989a8a6beccec87ee29",
            "e57a9606b05d4c4e910f2050cfcef8c3",
            "7ddde9a043214450998eab9a645b5439"
          ]
        },
        "outputId": "2adc6a0f-cc33-4142-b4ea-2d3c68a2c060"
      },
      "source": [
        "interact_manual(test, 測試編號=(0, 9999));"
      ],
      "execution_count": 144,
      "outputs": [
        {
          "output_type": "display_data",
          "data": {
            "text/plain": [
              "interactive(children=(IntSlider(value=4999, description='測試編號', max=9999), Button(description='Run Interact', …"
            ],
            "application/vnd.jupyter.widget-view+json": {
              "version_major": 2,
              "version_minor": 0,
              "model_id": "1d13fb1681714b24a1ea31ee3e26689c"
            }
          },
          "metadata": {}
        }
      ]
    },
    {
      "cell_type": "markdown",
      "metadata": {
        "id": "8JjaNcvN0Avs"
      },
      "source": [
        "神經網絡的總分"
      ]
    },
    {
      "cell_type": "code",
      "metadata": {
        "id": "cpilhXP00Avs",
        "colab": {
          "base_uri": "https://localhost:8080/"
        },
        "outputId": "031e851b-c477-41b5-a9d1-d5ae742a28b0"
      },
      "source": [
        "score = model.evaluate(x_test_aug, y_test)"
      ],
      "execution_count": 145,
      "outputs": [
        {
          "output_type": "stream",
          "name": "stdout",
          "text": [
            "\u001b[1m313/313\u001b[0m \u001b[32m━━━━━━━━━━━━━━━━━━━━\u001b[0m\u001b[37m\u001b[0m \u001b[1m1s\u001b[0m 2ms/step - accuracy: 0.9846 - loss: 0.0555\n"
          ]
        }
      ]
    },
    {
      "cell_type": "code",
      "metadata": {
        "id": "GTtgPGrF0Avt",
        "colab": {
          "base_uri": "https://localhost:8080/"
        },
        "outputId": "5ae8fd09-cd8c-4f51-a0cf-0a62a5359349"
      },
      "source": [
        "print('loss:', score[0])\n",
        "print('正確率', score[1])"
      ],
      "execution_count": 146,
      "outputs": [
        {
          "output_type": "stream",
          "name": "stdout",
          "text": [
            "loss: 0.051389794796705246\n",
            "正確率 0.9865999817848206\n"
          ]
        }
      ]
    },
    {
      "cell_type": "markdown",
      "metadata": {
        "id": "FWK0fgKgCHa7"
      },
      "source": [
        "###用 Gradio 來展示"
      ]
    },
    {
      "cell_type": "code",
      "source": [
        "def resize_image(inp):\n",
        "    # 若輸入為字典，檢查並提取圖像資料\n",
        "    if isinstance(inp, dict):\n",
        "        if \"data\" in inp:\n",
        "            image_data = inp[\"data\"]\n",
        "        elif \"layers\" in inp:\n",
        "            image_data = inp[\"layers\"][0]\n",
        "        else:\n",
        "            raise ValueError(\"無法識別輸入的圖像資料結構\")\n",
        "    else:\n",
        "        image_data = inp\n",
        "\n",
        "    # 將取得的圖像資料轉換為 numpy 陣列\n",
        "    image = np.array(image_data, dtype=np.uint8)\n",
        "\n",
        "    # 轉換為 PIL 影像\n",
        "    image_pil = Image.fromarray(image)\n",
        "\n",
        "    # 如果圖像為 RGBA 模式，將 Alpha 通道轉成白色背景\n",
        "    if image_pil.mode == \"RGBA\":\n",
        "        background = Image.new(\"RGB\", image_pil.size, (255, 255, 255))\n",
        "        background.paste(image_pil, mask=image_pil.split()[3])\n",
        "        image_pil = background\n",
        "\n",
        "    # 轉換為灰階圖像\n",
        "    image_gray = image_pil.convert(\"L\")\n",
        "\n",
        "    # 將灰階圖像縮放到 28x28，轉回 numpy 陣列\n",
        "    img_array = np.array(image_gray.resize((28, 28), resample=Image.LANCZOS))\n",
        "\n",
        "    # 配合 MNIST 數據集：反轉顏色 (黑白互換)\n",
        "    img_array = 255 - img_array\n",
        "\n",
        "    # 縮放到 [0, 1]\n",
        "    img_array = img_array.astype(np.float32) / 255.0\n",
        "\n",
        "    # 重新調整 shape 為 (1, 28, 28, 1) 以符合模型輸入要求\n",
        "    img_array = img_array.reshape(1, 28, 28, 1)\n",
        "\n",
        "    return img_array\n"
      ],
      "metadata": {
        "id": "YCDldfE4eVh6"
      },
      "execution_count": 147,
      "outputs": []
    },
    {
      "cell_type": "code",
      "source": [
        "def recognize_digit(inp):\n",
        "    img_array = resize_image(inp)\n",
        "    prediction = model.predict(img_array).flatten()\n",
        "    labels = list('0123456789')\n",
        "    return {labels[i]: float(prediction[i]) for i in range(10)}"
      ],
      "metadata": {
        "id": "QUejwCO9S7R4"
      },
      "execution_count": 148,
      "outputs": []
    },
    {
      "cell_type": "code",
      "metadata": {
        "id": "ITOFueb5KSBD",
        "colab": {
          "base_uri": "https://localhost:8080/",
          "height": 660
        },
        "outputId": "30134fad-02fa-4334-cc84-d2307c32855b"
      },
      "source": [
        "iface = gr.Interface(\n",
        "    fn=recognize_digit,\n",
        "    inputs=gr.Sketchpad(),\n",
        "    outputs=gr.Label(num_top_classes=3),\n",
        "    title=\"MNIST 手寫辨識\",\n",
        "    description=\"請在畫板上繪製數字\"\n",
        ")\n",
        "\n",
        "\n",
        "iface.launch(share=True, debug=True)"
      ],
      "execution_count": null,
      "outputs": [
        {
          "output_type": "stream",
          "name": "stdout",
          "text": [
            "Colab notebook detected. This cell will run indefinitely so that you can see errors and logs. To turn off, set debug=False in launch().\n",
            "* Running on public URL: https://8133da364631de9e47.gradio.live\n",
            "\n",
            "This share link expires in 72 hours. For free permanent hosting and GPU upgrades, run `gradio deploy` from the terminal in the working directory to deploy to Hugging Face Spaces (https://huggingface.co/spaces)\n"
          ]
        },
        {
          "output_type": "display_data",
          "data": {
            "text/plain": [
              "<IPython.core.display.HTML object>"
            ],
            "text/html": [
              "<div><iframe src=\"https://8133da364631de9e47.gradio.live\" width=\"100%\" height=\"500\" allow=\"autoplay; camera; microphone; clipboard-read; clipboard-write;\" frameborder=\"0\" allowfullscreen></iframe></div>"
            ]
          },
          "metadata": {}
        },
        {
          "output_type": "stream",
          "name": "stdout",
          "text": [
            "\u001b[1m1/1\u001b[0m \u001b[32m━━━━━━━━━━━━━━━━━━━━\u001b[0m\u001b[37m\u001b[0m \u001b[1m0s\u001b[0m 224ms/step\n",
            "\u001b[1m1/1\u001b[0m \u001b[32m━━━━━━━━━━━━━━━━━━━━\u001b[0m\u001b[37m\u001b[0m \u001b[1m0s\u001b[0m 30ms/step\n",
            "\u001b[1m1/1\u001b[0m \u001b[32m━━━━━━━━━━━━━━━━━━━━\u001b[0m\u001b[37m\u001b[0m \u001b[1m0s\u001b[0m 44ms/step\n",
            "\u001b[1m1/1\u001b[0m \u001b[32m━━━━━━━━━━━━━━━━━━━━\u001b[0m\u001b[37m\u001b[0m \u001b[1m0s\u001b[0m 30ms/step\n"
          ]
        }
      ]
    }
  ]
}