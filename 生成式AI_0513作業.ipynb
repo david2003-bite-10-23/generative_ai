{
  "nbformat": 4,
  "nbformat_minor": 0,
  "metadata": {
    "colab": {
      "provenance": [],
      "authorship_tag": "ABX9TyP8RQxvdATe202fZQPCXIL2",
      "include_colab_link": true
    },
    "kernelspec": {
      "name": "python3",
      "display_name": "Python 3"
    },
    "language_info": {
      "name": "python"
    }
  },
  "cells": [
    {
      "cell_type": "markdown",
      "metadata": {
        "id": "view-in-github",
        "colab_type": "text"
      },
      "source": [
        "<a href=\"https://colab.research.google.com/github/david2003-bite-10-23/generative_ai/blob/main/%E7%94%9F%E6%88%90%E5%BC%8FAI_0513%E4%BD%9C%E6%A5%AD.ipynb\" target=\"_parent\"><img src=\"https://colab.research.google.com/assets/colab-badge.svg\" alt=\"Open In Colab\"/></a>"
      ]
    },
    {
      "cell_type": "markdown",
      "source": [
        "###其實在這一個時間點，我已經把專題寫完了\n",
        "###附上連結:https://github.com/david2003-bite-10-23/generative_ai/blob/main/final_project_chess_teacher.ipynb\n",
        "\n",
        "###我主要陳述的是我在做專題之前的發想"
      ],
      "metadata": {
        "id": "FdlPNeQFzemL"
      }
    },
    {
      "cell_type": "markdown",
      "source": [
        "主題:一個教西洋棋的AI_agent(不確定要教什麼，邊做邊想)\n",
        "如何實作:主要有兩個比較大的功能需要被解決，棋局的規則以及GUI已經有人寫過了所以我並不擔心，問題是如何實做電腦的棋手以及我應該送那些資料給llm然後想要他分析甚麼?我接下來就以上這兩個問題來做說明我那個時候是預期要如何解決的(實際真的在實作的時候跟預期一致)\n",
        "\n",
        "1.如何實做電腦的棋手?\n",
        "從0開始訓練一個西洋的AI需要花費非常多的時間，收集資料以及訓練模型都需要時間，我認為我沒辦法在這一件事情上花這麼多時間，我希望我可以找到一個現成的\"AI\"，所以就找到了stockfish這一個現成的引擎，他的反應速度很快棋力也很高，最後也是因為找到了這一個引擎所以最終決定以此為核心來實作一個AI_agent(原本其實也想過讓llm來下棋，但是想了一下llm在下棋上也不會有專門的引擎穩定所以也就不了了之了)\n",
        "\n",
        "2.我應該送那些資料給llm然後想要他分析甚麼?\n",
        "stockfish有功能可以指定他輸出給我幾個最好的棋步，所以我想說就送最好的3個棋步以及當前的局面資訊給llm，但這又延伸出一個問題就是具體我要怎麼傳遞這一個資訊呢?最終我找到了一種叫做FEN的標準格式可以用來傳遞訊息，LLM也意外地可以解讀棋面資訊並給予回覆，設定給他的目標有兩個一個是步法建議另一個是典故與激勵，兩個它都有做到且質量都不錯，最終我以此為定案，就坐到這邊就沒有往下做了\n",
        "\n",
        "大概是這樣"
      ],
      "metadata": {
        "id": "44UkADnhz_dh"
      }
    }
  ]
}